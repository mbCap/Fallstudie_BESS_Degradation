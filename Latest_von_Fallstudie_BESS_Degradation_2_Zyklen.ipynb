{
  "nbformat": 4,
  "nbformat_minor": 0,
  "metadata": {
    "colab": {
      "provenance": [],
      "include_colab_link": true
    },
    "kernelspec": {
      "name": "python3",
      "display_name": "Python 3"
    },
    "language_info": {
      "name": "python"
    }
  },
  "cells": [
    {
      "cell_type": "markdown",
      "metadata": {
        "id": "view-in-github",
        "colab_type": "text"
      },
      "source": [
        "<a href=\"https://colab.research.google.com/github/mbCap/Fallstudie_BESS_Degradation/blob/main/Latest_von_Fallstudie_BESS_Degradation_2_Zyklen.ipynb\" target=\"_parent\"><img src=\"https://colab.research.google.com/assets/colab-badge.svg\" alt=\"Open In Colab\"/></a>"
      ]
    },
    {
      "cell_type": "markdown",
      "metadata": {
        "id": "b2fc884d"
      },
      "source": [
        "# Fallstudie BESS"
      ]
    },
    {
      "cell_type": "code",
      "source": [
        "!git clone https://github.com/AlexKressner/WS24_Supply_Chain_Optimierung"
      ],
      "metadata": {
        "colab": {
          "base_uri": "https://localhost:8080/"
        },
        "id": "agwbK-cZ_81Y",
        "outputId": "12693fc3-5e75-4ec1-c44e-5cc2e80679a5"
      },
      "execution_count": null,
      "outputs": [
        {
          "output_type": "stream",
          "name": "stdout",
          "text": [
            "fatal: destination path 'WS24_Supply_Chain_Optimierung' already exists and is not an empty directory.\n"
          ]
        }
      ]
    },
    {
      "cell_type": "code",
      "source": [
        "!pip install -q pyscipopt"
      ],
      "metadata": {
        "id": "s-Jr4KMm_8Mn"
      },
      "execution_count": null,
      "outputs": []
    },
    {
      "cell_type": "code",
      "source": [
        "import pandas as pd\n",
        "from pyscipopt import Model, quicksum\n",
        "\n",
        "folder = \"WS24_Supply_Chain_Optimierung/Daten/Fallstudie\"\n",
        "preisprognose = pd.read_excel(f\"{folder}/Preisprognosen.xlsx\")\n",
        "\n",
        "T = range(1, 25)\n",
        "\n",
        "# Parameter\n",
        "cap = 40.0  # Nominelle Kapazität in [MWh]\n",
        "DoD = 0.80  # Depth of Discharge\n",
        "SOC_min = cap * (1 - DoD)  # Minimaler Ladezustand in [MWh]\n",
        "SOC_max = cap  # Maximaler Ladezustand in [MWh]\n",
        "c_rate = 0.5  # C-Rate\n",
        "eta_rte = 0.975  # Round-trip Efficiency (einfache Richtung)\n",
        "eta_wr = 0.985  # Wirkungsgrad Wechselrichter\n",
        "cyclecost = 1500.0  # Fixkosten pro Zyklusdurchlauf\n",
        "maxCycles = 2.0  # Maximal durchführbare Zyklen\n",
        "p_Markt = preisprognose.groupby(\"Stunde\")[\"Strompreis\"].mean().tolist()  # Marktpreiserwartung zur Stunde t\n",
        "\n",
        "# Lade- und Entladeverluste trennen\n",
        "eta_charge = eta_rte * eta_wr  # Lade-Verlust\n",
        "eta_discharge = eta_rte * eta_wr  # Entlade-Verlust\n",
        "\n",
        "# Funktion zur Berechnung der degradierten Kapazität\n",
        "def get_degraded_capacity(years):\n",
        "    return cap * (1 - 0.02) ** years  # Annahme: 2% Degradation pro Jahr\n",
        "\n",
        "# Funktion zur Initialisierung des Modells\n",
        "def initialize_model(degraded_capacity):\n",
        "    # Modell erstellen\n",
        "    scip = Model()\n",
        "\n",
        "    # Entscheidungsvariablen\n",
        "    SOC = {t: scip.addVar(\n",
        "        vtype=\"CONTINUOUS\",\n",
        "        lb=SOC_min,\n",
        "        ub=SOC_max,\n",
        "        name=f\"SOC_{t}\"\n",
        "    ) for t in T}\n",
        "\n",
        "    charge = {t: scip.addVar(\n",
        "        vtype=\"CONTINUOUS\",\n",
        "        lb=0,\n",
        "        ub=c_rate * degraded_capacity,\n",
        "        name=f\"charge_{t}\"\n",
        "    ) for t in T}\n",
        "\n",
        "    discharge = {t: scip.addVar(\n",
        "        vtype=\"CONTINUOUS\",\n",
        "        lb=0,\n",
        "        ub=c_rate * degraded_capacity,\n",
        "        name=f\"discharge_{t}\"\n",
        "    ) for t in T}\n",
        "\n",
        "    # Zählvariable für verbrauchte Zyklen\n",
        "    Z = scip.addVar(\n",
        "        vtype=\"CONTINUOUS\",\n",
        "        lb=0,\n",
        "        ub=maxCycles,\n",
        "        name=\"cycles_used\"\n",
        "    )\n",
        "\n",
        "    # Nebenbedingungen\n",
        "    scip.addCons(SOC[1] == 0.5 * degraded_capacity)\n",
        "    scip.addCons(SOC[24] == 0.5 * degraded_capacity)\n",
        "    scip.addCons(discharge[24] == 0)\n",
        "\n",
        "    # Ladezustandsdynamik\n",
        "    for t in T:\n",
        "        if t == 1:\n",
        "            continue\n",
        "        scip.addCons(\n",
        "            SOC[t]\n",
        "            == SOC[t - 1]\n",
        "            + eta_charge * charge[t - 1]\n",
        "            - (1 / eta_discharge) * discharge[t - 1]\n",
        "        )\n",
        "\n",
        "    # Zyklenbegrenzung\n",
        "    throughput = quicksum(charge[t] + discharge[t] for t in T)\n",
        "    scip.addCons(\n",
        "        Z >= throughput / (2.0 * degraded_capacity * DoD)\n",
        "    )\n",
        "    scip.addCons(\n",
        "        Z <= maxCycles\n",
        "    )\n",
        "\n",
        "    # Zielfunktion\n",
        "    scip.setObjective(quicksum(\n",
        "        p_Markt[t - 1] * discharge[t] - p_Markt[t - 1] * charge[t]\n",
        "        for t in T\n",
        "    ) - cyclecost * Z, sense=\"maximize\")\n",
        "\n",
        "    return scip\n",
        "\n",
        "# Berechnung des Erlöses pro Jahr und pro Tag\n",
        "def calculate_revenue_for_year_and_day(years, scip):\n",
        "    # Kapazität nach Degradation berechnen\n",
        "    degraded_capacity = get_degraded_capacity(years)\n",
        "    # Modell initialisieren mit degradiertem Kapazitätswert\n",
        "    scip = initialize_model(degraded_capacity)\n",
        "\n",
        "    # Modell lösen\n",
        "    scip.optimize()\n",
        "\n",
        "    # Erlös pro Tag\n",
        "    daily_revenue = scip.getObjVal()\n",
        "    # Erlös pro Jahr\n",
        "    annual_revenue = daily_revenue * 365  # Multiplizieren mit 365 für das ganze Jahr\n",
        "\n",
        "    return daily_revenue, annual_revenue\n",
        "\n",
        "# Berechnung und Ausgabe des Erlöses für jedes Jahr und pro Tag\n",
        "print(f\"Erlös pro Jahr und pro Tag unter Berücksichtigung der Degradation:\")\n",
        "\n",
        "# Initialer Erlös für Jahr 0\n",
        "revenue_today, annual_revenue_today = calculate_revenue_for_year_and_day(0, None)\n",
        "print(f\"Jahr 0: {revenue_today:.2f} € pro Tag / {annual_revenue_today:.2f} € pro Jahr\")\n",
        "\n",
        "# Berechnung und Ausgabe für die nächsten 10 Jahre\n",
        "for years in range(1, 11):\n",
        "    revenue_in_day, revenue_in_year = calculate_revenue_for_year_and_day(years, None)\n",
        "    revenue_loss_per_day = revenue_today - revenue_in_day\n",
        "    revenue_loss_per_year = annual_revenue_today - revenue_in_year\n",
        "    print(f\"Jahr {years}: {revenue_in_day:.2f} € pro Tag / {revenue_in_year:.2f} € pro Jahr \"\n",
        "          f\"(Erlösverlust pro Tag: {revenue_loss_per_day:.2f} € / Erlösverlust pro Jahr: {revenue_loss_per_year:.2f} €)\")\n",
        "\n",
        "# Zusammenfassung der Veränderung des Erlöses pro Tag\n",
        "revenue_loss_percentage = ((revenue_today - revenue_in_day) / revenue_today) * 100\n",
        "print(f\"\\nWie verändert sich der Erlös eines Tages, wenn ich eine gewisse Degradation unterstelle (2% pro Jahr für die Batterie)?\")\n",
        "print(f\"Der Erlös eines Tages sinkt aufgrund der Degradation im 10. Jahr um {revenue_loss_percentage:.2f}% im Vergleich zum initialen Jahr.\")\n"
      ],
      "metadata": {
        "colab": {
          "base_uri": "https://localhost:8080/"
        },
        "id": "2XDUDiHB09RM",
        "outputId": "7c036126-6036-436b-ebc1-821f38ea3343"
      },
      "execution_count": null,
      "outputs": [
        {
          "output_type": "stream",
          "name": "stdout",
          "text": [
            "Erlös pro Jahr und pro Tag unter Berücksichtigung der Degradation:\n",
            "Jahr 0: 1885.12 € pro Tag / 688068.14 € pro Jahr\n",
            "Jahr 1: 1873.13 € pro Tag / 683691.29 € pro Jahr (Erlösverlust pro Tag: 11.99 € / Erlösverlust pro Jahr: 4376.85 €)\n",
            "Jahr 2: 1845.18 € pro Tag / 673490.04 € pro Jahr (Erlösverlust pro Tag: 39.94 € / Erlösverlust pro Jahr: 14578.10 €)\n",
            "Jahr 3: 1816.36 € pro Tag / 662972.94 € pro Jahr (Erlösverlust pro Tag: 68.75 € / Erlösverlust pro Jahr: 25095.20 €)\n",
            "Jahr 4: 1786.84 € pro Tag / 652195.68 € pro Jahr (Erlösverlust pro Tag: 98.28 € / Erlösverlust pro Jahr: 35872.46 €)\n",
            "Jahr 5: 1756.59 € pro Tag / 641153.86 € pro Jahr (Erlösverlust pro Tag: 128.53 € / Erlösverlust pro Jahr: 46914.28 €)\n",
            "Jahr 6: 1725.60 € pro Tag / 629842.99 € pro Jahr (Erlösverlust pro Tag: 159.52 € / Erlösverlust pro Jahr: 58225.16 €)\n",
            "Jahr 7: 1693.86 € pro Tag / 618258.43 € pro Jahr (Erlösverlust pro Tag: 191.26 € / Erlösverlust pro Jahr: 69809.72 €)\n",
            "Jahr 8: 1661.36 € pro Tag / 606395.46 € pro Jahr (Erlösverlust pro Tag: 223.76 € / Erlösverlust pro Jahr: 81672.69 €)\n",
            "Jahr 9: 1628.08 € pro Tag / 594249.24 € pro Jahr (Erlösverlust pro Tag: 257.04 € / Erlösverlust pro Jahr: 93818.91 €)\n",
            "Jahr 10: 1592.43 € pro Tag / 581237.83 € pro Jahr (Erlösverlust pro Tag: 292.69 € / Erlösverlust pro Jahr: 106830.31 €)\n",
            "\n",
            "Wie verändert sich der Erlös eines Tages, wenn ich eine gewisse Degradation unterstelle (2% pro Jahr für die Batterie)?\n",
            "Der Erlös eines Tages sinkt aufgrund der Degradation im 10. Jahr um 15.53% im Vergleich zum initialen Jahr.\n"
          ]
        }
      ]
    }
  ]
}