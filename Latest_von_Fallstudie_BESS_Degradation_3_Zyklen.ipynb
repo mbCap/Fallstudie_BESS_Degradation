{
  "nbformat": 4,
  "nbformat_minor": 0,
  "metadata": {
    "colab": {
      "provenance": [],
      "include_colab_link": true
    },
    "kernelspec": {
      "name": "python3",
      "display_name": "Python 3"
    },
    "language_info": {
      "name": "python"
    }
  },
  "cells": [
    {
      "cell_type": "markdown",
      "metadata": {
        "id": "view-in-github",
        "colab_type": "text"
      },
      "source": [
        "<a href=\"https://colab.research.google.com/github/mbCap/Fallstudie_BESS_Degradation/blob/main/Latest_von_Fallstudie_BESS_Degradation_3_Zyklen.ipynb\" target=\"_parent\"><img src=\"https://colab.research.google.com/assets/colab-badge.svg\" alt=\"Open In Colab\"/></a>"
      ]
    },
    {
      "cell_type": "markdown",
      "metadata": {
        "id": "b2fc884d"
      },
      "source": [
        "# Fallstudie BESS"
      ]
    },
    {
      "cell_type": "code",
      "source": [
        "!git clone https://github.com/AlexKressner/WS24_Supply_Chain_Optimierung"
      ],
      "metadata": {
        "colab": {
          "base_uri": "https://localhost:8080/"
        },
        "id": "agwbK-cZ_81Y",
        "outputId": "91d32f0d-ded8-40ee-8ad7-a499987470b3"
      },
      "execution_count": null,
      "outputs": [
        {
          "output_type": "stream",
          "name": "stdout",
          "text": [
            "fatal: destination path 'WS24_Supply_Chain_Optimierung' already exists and is not an empty directory.\n"
          ]
        }
      ]
    },
    {
      "cell_type": "code",
      "source": [
        "!pip install -q pyscipopt"
      ],
      "metadata": {
        "id": "s-Jr4KMm_8Mn"
      },
      "execution_count": null,
      "outputs": []
    },
    {
      "cell_type": "code",
      "source": [
        "import pandas as pd\n",
        "from pyscipopt import Model, quicksum\n",
        "\n",
        "# Initialisiere das Modell\n",
        "scip = Model()\n",
        "\n",
        "# Daten laden\n",
        "folder = \"WS24_Supply_Chain_Optimierung/Daten/Fallstudie\"\n",
        "preisprognose = pd.read_excel(f\"{folder}/Preisprognosen.xlsx\")\n",
        "\n",
        "# Indexmenge (Stunden des Folgetages)\n",
        "T = range(1, 25)\n",
        "\n",
        "# Parameter (unverändert)\n",
        "cap = 40.0  # Nominelle Kapazität in [MWh]\n",
        "DoD = 0.80  # Depth of Discharge\n",
        "SOC_min = cap * (1 - DoD)  # Minimaler Ladezustand\n",
        "SOC_max = cap  # Maximaler Ladezustand\n",
        "c_rate = 0.5  # C-Rate\n",
        "eta_rte = 0.975  # Round-trip Efficiency\n",
        "eta_wr = 0.985  # Wirkungsgrad Wechselrichter\n",
        "cyclecost = 1500.0  # Fixkosten pro Zyklus\n",
        "maxCycles = 3.0  # Maximale Zyklen pro Tag (3 Zyklen)\n",
        "\n",
        "# Marktpreise (Durchschnitt pro Stunde)\n",
        "p_Markt = preisprognose.groupby(\"Stunde\")[\"Strompreis\"].mean().tolist()\n",
        "\n",
        "# Lade- und Entladeverluste\n",
        "eta_charge = eta_rte * eta_wr  # Ladeverlust\n",
        "eta_discharge = eta_rte * eta_wr  # Entladeverlust\n",
        "\n",
        "# Zählvariable für verbrauchte Zyklen\n",
        "Z = scip.addVar(\n",
        "    vtype=\"CONTINUOUS\",\n",
        "    lb=0,\n",
        "    ub=maxCycles,\n",
        "    name=\"cycles_used\"\n",
        ")\n",
        "\n",
        "# Entscheidungsvariablen: SOC, charge und discharge\n",
        "SOC = {t: scip.addVar(vtype=\"CONTINUOUS\", lb=SOC_min, ub=SOC_max, name=f\"SOC_{t}\") for t in T}\n",
        "charge = {t: scip.addVar(vtype=\"CONTINUOUS\", lb=0, ub=c_rate * cap, name=f\"charge_{t}\") for t in T}\n",
        "discharge = {t: scip.addVar(vtype=\"CONTINUOUS\", lb=0, ub=c_rate * cap, name=f\"discharge_{t}\") for t in T}\n",
        "\n",
        "# Nebenbedingungen\n",
        "scip.addCons(SOC[1] == 0.5 * cap)\n",
        "scip.addCons(SOC[24] == 0.5 * cap)\n",
        "scip.addCons(discharge[24] == 0)\n",
        "\n",
        "# Ladezustandsdynamik\n",
        "for t in T:\n",
        "    if t == 1:\n",
        "        continue\n",
        "    scip.addCons(\n",
        "        SOC[t] == SOC[t - 1] + eta_charge * charge[t - 1] - (1 / eta_discharge) * discharge[t - 1]\n",
        "    )\n",
        "\n",
        "# Zyklenbegrenzung (Berücksichtige 3 Zyklen pro Tag)\n",
        "throughput = quicksum(charge[t] + discharge[t] for t in T)\n",
        "scip.addCons(Z >= throughput / (2.0 * cap * DoD))\n",
        "scip.addCons(Z <= maxCycles)\n",
        "\n",
        "# Degradation: 2% pro Jahr\n",
        "def calculate_degradation(year):\n",
        "    degradation_factor = 1 - 0.02 * year  # 2% Degradation pro Jahr\n",
        "    return degradation_factor\n",
        "\n",
        "# Zielfunktion: Erlöse - Kosten für Strom - Zykluskosten\n",
        "scip.setObjective(\n",
        "    quicksum(p_Markt[t - 1] * discharge[t] - p_Markt[t - 1] * charge[t] for t in T) - cyclecost * Z,\n",
        "    sense=\"maximize\"\n",
        ")\n",
        "\n",
        "# Modell lösen\n",
        "scip.optimize()\n",
        "\n",
        "# Ausgabe der Ergebnisse\n",
        "initial_revenue = scip.getObjVal()\n",
        "print(f\"Optimaler Zielfunktionswert (Jahr 0): {initial_revenue:.2f} € pro Tag / {initial_revenue * 365:.2f} € pro Jahr\")\n",
        "\n",
        "# Berechnung des Erlöses mit Degradation für mehrere Jahre\n",
        "for year in range(1, 11):\n",
        "    degradation_factor = calculate_degradation(year)\n",
        "    revenue_today = scip.getObjVal()\n",
        "    revenue_today *= degradation_factor  # Berücksichtige Degradation\n",
        "    revenue_in_year = revenue_today * 365  # Jahreswert\n",
        "    revenue_loss_per_day = initial_revenue - revenue_today\n",
        "    revenue_loss_per_year = initial_revenue * 365 - revenue_in_year\n",
        "\n",
        "    print(f\"Jahr {year}: {revenue_today:.2f} € pro Tag / {revenue_in_year:.2f} € pro Jahr \"\n",
        "          f\"(Erlösverlust pro Tag: {revenue_loss_per_day:.2f} € / Erlösverlust pro Jahr: {revenue_loss_per_year:.2f} €)\")\n",
        "\n",
        "# Berechnung der Veränderung des Erlöses\n",
        "print(\"\\nWie verändert sich der Erlös eines Tages, wenn ich eine gewisse Degradation unterstelle (2% pro Jahr für die Batterie)?\")\n",
        "print(f\"Der Erlös eines Tages sinkt aufgrund der Degradation im 10. Jahr um {100 * (1 - calculate_degradation(10)):.2f}% im Vergleich zum initialen Jahr.\")\n"
      ],
      "metadata": {
        "colab": {
          "base_uri": "https://localhost:8080/"
        },
        "id": "2XDUDiHB09RM",
        "outputId": "274a73e3-8194-4da0-b2a7-53e50ab8b77e"
      },
      "execution_count": null,
      "outputs": [
        {
          "output_type": "stream",
          "name": "stdout",
          "text": [
            "Optimaler Zielfunktionswert (Jahr 0): 1885.12 € pro Tag / 688068.14 € pro Jahr\n",
            "Jahr 1: 1847.42 € pro Tag / 674306.78 € pro Jahr (Erlösverlust pro Tag: 37.70 € / Erlösverlust pro Jahr: 13761.36 €)\n",
            "Jahr 2: 1809.71 € pro Tag / 660545.42 € pro Jahr (Erlösverlust pro Tag: 75.40 € / Erlösverlust pro Jahr: 27522.73 €)\n",
            "Jahr 3: 1772.01 € pro Tag / 646784.05 € pro Jahr (Erlösverlust pro Tag: 113.11 € / Erlösverlust pro Jahr: 41284.09 €)\n",
            "Jahr 4: 1734.31 € pro Tag / 633022.69 € pro Jahr (Erlösverlust pro Tag: 150.81 € / Erlösverlust pro Jahr: 55045.45 €)\n",
            "Jahr 5: 1696.61 € pro Tag / 619261.33 € pro Jahr (Erlösverlust pro Tag: 188.51 € / Erlösverlust pro Jahr: 68806.81 €)\n",
            "Jahr 6: 1658.90 € pro Tag / 605499.97 € pro Jahr (Erlösverlust pro Tag: 226.21 € / Erlösverlust pro Jahr: 82568.18 €)\n",
            "Jahr 7: 1621.20 € pro Tag / 591738.60 € pro Jahr (Erlösverlust pro Tag: 263.92 € / Erlösverlust pro Jahr: 96329.54 €)\n",
            "Jahr 8: 1583.50 € pro Tag / 577977.24 € pro Jahr (Erlösverlust pro Tag: 301.62 € / Erlösverlust pro Jahr: 110090.90 €)\n",
            "Jahr 9: 1545.80 € pro Tag / 564215.88 € pro Jahr (Erlösverlust pro Tag: 339.32 € / Erlösverlust pro Jahr: 123852.27 €)\n",
            "Jahr 10: 1508.09 € pro Tag / 550454.51 € pro Jahr (Erlösverlust pro Tag: 377.02 € / Erlösverlust pro Jahr: 137613.63 €)\n",
            "\n",
            "Wie verändert sich der Erlös eines Tages, wenn ich eine gewisse Degradation unterstelle (2% pro Jahr für die Batterie)?\n",
            "Der Erlös eines Tages sinkt aufgrund der Degradation im 10. Jahr um 20.00% im Vergleich zum initialen Jahr.\n"
          ]
        }
      ]
    }
  ]
}