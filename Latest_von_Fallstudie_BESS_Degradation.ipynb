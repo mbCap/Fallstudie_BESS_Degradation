{
  "nbformat": 4,
  "nbformat_minor": 0,
  "metadata": {
    "colab": {
      "provenance": [],
      "include_colab_link": true
    },
    "kernelspec": {
      "name": "python3",
      "display_name": "Python 3"
    },
    "language_info": {
      "name": "python"
    }
  },
  "cells": [
    {
      "cell_type": "markdown",
      "metadata": {
        "id": "view-in-github",
        "colab_type": "text"
      },
      "source": [
        "<a href=\"https://colab.research.google.com/github/mbCap/Fallstudie_BESS_Degradation/blob/main/Latest_von_Fallstudie_BESS_Degradation.ipynb\" target=\"_parent\"><img src=\"https://colab.research.google.com/assets/colab-badge.svg\" alt=\"Open In Colab\"/></a>"
      ]
    },
    {
      "cell_type": "markdown",
      "metadata": {
        "id": "b2fc884d"
      },
      "source": [
        "# Fallstudie BESS"
      ]
    },
    {
      "cell_type": "code",
      "source": [
        "!git clone https://github.com/AlexKressner/WS24_Supply_Chain_Optimierung"
      ],
      "metadata": {
        "colab": {
          "base_uri": "https://localhost:8080/"
        },
        "id": "agwbK-cZ_81Y",
        "outputId": "97370bff-e313-477b-de13-c27132bc8835"
      },
      "execution_count": 4,
      "outputs": [
        {
          "output_type": "stream",
          "name": "stdout",
          "text": [
            "fatal: destination path 'WS24_Supply_Chain_Optimierung' already exists and is not an empty directory.\n"
          ]
        }
      ]
    },
    {
      "cell_type": "code",
      "source": [
        "!pip install -q pyscipopt latest"
      ],
      "metadata": {
        "id": "s-Jr4KMm_8Mn"
      },
      "execution_count": 5,
      "outputs": []
    },
    {
      "cell_type": "code",
      "source": [
        "import pandas as pd  # Import der Pandas-Bibliothek zur Datenverarbeitung\n",
        "from pyscipopt import Model, quicksum  # Import der SCIP-Optimierungsbibliothek\n",
        "\n",
        "# Ordnerpfad für die Daten\n",
        "folder = \"WS24_Supply_Chain_Optimierung/Daten/Fallstudie\"\n",
        "\n",
        "# Laden der Strompreisprognosen aus einer Excel-Datei\n",
        "preisprognose = pd.read_excel(f\"{folder}/Preisprognosen.xlsx\")\n",
        "\n",
        "# Definiere den Zeitbereich für 24 Stunden\n",
        "T = range(1, 25)\n",
        "\n",
        "# Parameter des Batteriesystems\n",
        "cap = 40.0  # Nominale Kapazität in Megawattstunden (MWh)\n",
        "DoD = 0.80  # Depth of Discharge (maximaler Entladungsgrad)\n",
        "SOC_min = cap * (1 - DoD)  # Minimaler Ladezustand in MWh\n",
        "SOC_max = cap  # Maximaler Ladezustand in MWh\n",
        "c_rate = 0.5  # Maximale Lade-/Entladeleistung als Anteil der Kapazität\n",
        "eta_rte = 0.975  # Round-trip-Effizienz (Verluste beim Laden und Entladen)\n",
        "eta_wr = 0.985  # Wechselrichter-Wirkungsgrad\n",
        "cyclecost = 1500.0  # Fixkosten pro Zyklusdurchlauf in Euro\n",
        "maxCycles = 2.0  # Maximale Anzahl von Lade-/Entladezyklen pro Tag\n",
        "\n",
        "# Berechnung der erwarteten Marktpreise je Stunde\n",
        "p_Markt = preisprognose.groupby(\"Stunde\")[\"Strompreis\"].mean().tolist()\n",
        "\n",
        "# Effizienzverluste beim Laden und Entladen\n",
        "eta_charge = eta_rte * eta_wr  # Gesamteffizienz beim Laden\n",
        "eta_discharge = eta_rte * eta_wr  # Gesamteffizienz beim Entladen\n",
        "\n",
        "# Funktion zur Berechnung der degradierten Batteriekapazität\n",
        "def get_degraded_capacity(years):\n",
        "    return cap * (1 - 0.02) ** years  # Annahme: 2% Kapazitätsverlust pro Jahr\n",
        "\n",
        "# Funktion zur Initialisierung des Optimierungsmodells\n",
        "def initialize_model(degraded_capacity):\n",
        "    scip = Model()  # SCIP-Optimierungsmodell erstellen\n",
        "\n",
        "    # Entscheidungsvariablen für den Ladezustand der Batterie\n",
        "    SOC = {t: scip.addVar(vtype=\"CONTINUOUS\", lb=SOC_min, ub=SOC_max, name=f\"SOC_{t}\") for t in T}\n",
        "\n",
        "    # Entscheidungsvariablen für Laden und Entladen der Batterie\n",
        "    charge = {t: scip.addVar(vtype=\"CONTINUOUS\", lb=0, ub=c_rate * degraded_capacity, name=f\"charge_{t}\") for t in T}\n",
        "    discharge = {t: scip.addVar(vtype=\"CONTINUOUS\", lb=0, ub=c_rate * degraded_capacity, name=f\"discharge_{t}\") for t in T}\n",
        "\n",
        "    # Variable für die Anzahl der genutzten Lade-/Entladezyklen\n",
        "    Z = scip.addVar(vtype=\"CONTINUOUS\", lb=0, ub=maxCycles, name=\"cycles_used\")\n",
        "\n",
        "    # Anfangs- und Endbedingungen für den Ladezustand\n",
        "    scip.addCons(SOC[1] == 0.5 * degraded_capacity)  # Start bei 50% Kapazität\n",
        "    scip.addCons(SOC[24] == 0.5 * degraded_capacity)  # Ende bei 50% Kapazität\n",
        "    scip.addCons(discharge[24] == 0)  # Keine Entladung in der letzten Stunde\n",
        "\n",
        "    # Ladezustands-Dynamik für jede Stunde\n",
        "    for t in T:\n",
        "        if t == 1:\n",
        "            continue\n",
        "        scip.addCons(SOC[t] == SOC[t - 1] + eta_charge * charge[t - 1] - (1 / eta_discharge) * discharge[t - 1])\n",
        "\n",
        "    # Begrenzung der Zyklenzahl basierend auf Durchsatz\n",
        "    throughput = quicksum(charge[t] + discharge[t] for t in T)\n",
        "    scip.addCons(Z >= throughput / (2.0 * degraded_capacity * DoD))\n",
        "    scip.addCons(Z <= maxCycles)\n",
        "\n",
        "    # Zielfunktion: Maximiere den Gewinn aus dem Handel am Strommarkt\n",
        "    scip.setObjective(quicksum(p_Markt[t - 1] * discharge[t] - p_Markt[t - 1] * charge[t] for t in T) - cyclecost * Z, sense=\"maximize\")\n",
        "\n",
        "    return scip\n",
        "\n",
        "# Funktion zur Berechnung des täglichen und jährlichen Erlöses\n",
        "def calculate_revenue_for_year_and_day(years, scip):\n",
        "    degraded_capacity = get_degraded_capacity(years)  # Berechnung der reduzierten Kapazität\n",
        "    scip = initialize_model(degraded_capacity)  # Initialisierung des Modells\n",
        "\n",
        "    scip.optimize()  # Optimierung ausführen\n",
        "\n",
        "    daily_revenue = scip.getObjVal()  # Optimierter Tageserlös\n",
        "    annual_revenue = daily_revenue * 365  # Hochrechnung auf das ganze Jahr\n",
        "\n",
        "    return daily_revenue, annual_revenue\n",
        "\n",
        "# Ausgabe des Erlöses für jedes Jahr unter Berücksichtigung der Degradation\n",
        "print(\"Erlös pro Jahr und pro Tag unter Berücksichtigung der Degradation:\")\n",
        "\n",
        "# Berechnung für Jahr 0 (keine Degradation)\n",
        "revenue_today, annual_revenue_today = calculate_revenue_for_year_and_day(0, None)\n",
        "print(f\"Jahr 0: {revenue_today:.2f} € pro Tag / {annual_revenue_today:.2f} € pro Jahr\")\n",
        "\n",
        "# Berechnung für die nächsten 10 Jahre unter Annahme von 2% jährlicher Kapazitätsdegradation\n",
        "for years in range(1, 11):\n",
        "    revenue_in_day, revenue_in_year = calculate_revenue_for_year_and_day(years, None)\n",
        "    revenue_loss_per_day = revenue_today - revenue_in_day\n",
        "    revenue_loss_per_year = annual_revenue_today - revenue_in_year\n",
        "    print(f\"Jahr {years}: {revenue_in_day:.2f} € pro Tag / {revenue_in_year:.2f} € pro Jahr \"\n",
        "          f\"(Erlösverlust pro Tag: {revenue_loss_per_day:.2f} € / Erlösverlust pro Jahr: {revenue_loss_per_year:.2f} €)\")\n",
        "\n",
        "# Berechnung der prozentualen Veränderung des Tageserlöses nach 10 Jahren\n",
        "revenue_loss_percentage = ((revenue_today - revenue_in_day) / revenue_today) * 100\n",
        "print(\"\\nWie verändert sich der Erlös mit Batterie-Degradation?\")\n",
        "print(f\"Der Tageserlös sinkt im 10. Jahr um {revenue_loss_percentage:.2f}% im Vergleich zum Ausgangsjahr.\")\n"
      ],
      "metadata": {
        "colab": {
          "base_uri": "https://localhost:8080/"
        },
        "id": "2XDUDiHB09RM",
        "outputId": "8e2ea73c-6709-4e06-dd89-96f43f3d59e9"
      },
      "execution_count": 6,
      "outputs": [
        {
          "output_type": "stream",
          "name": "stdout",
          "text": [
            "Erlös pro Jahr und pro Tag unter Berücksichtigung der Degradation:\n",
            "Jahr 0: 1885.12 € pro Tag / 688068.14 € pro Jahr\n",
            "Jahr 1: 1873.13 € pro Tag / 683691.29 € pro Jahr (Erlösverlust pro Tag: 11.99 € / Erlösverlust pro Jahr: 4376.85 €)\n",
            "Jahr 2: 1845.18 € pro Tag / 673490.04 € pro Jahr (Erlösverlust pro Tag: 39.94 € / Erlösverlust pro Jahr: 14578.10 €)\n",
            "Jahr 3: 1816.36 € pro Tag / 662972.94 € pro Jahr (Erlösverlust pro Tag: 68.75 € / Erlösverlust pro Jahr: 25095.20 €)\n",
            "Jahr 4: 1786.84 € pro Tag / 652195.68 € pro Jahr (Erlösverlust pro Tag: 98.28 € / Erlösverlust pro Jahr: 35872.46 €)\n",
            "Jahr 5: 1756.59 € pro Tag / 641153.86 € pro Jahr (Erlösverlust pro Tag: 128.53 € / Erlösverlust pro Jahr: 46914.28 €)\n",
            "Jahr 6: 1725.60 € pro Tag / 629842.99 € pro Jahr (Erlösverlust pro Tag: 159.52 € / Erlösverlust pro Jahr: 58225.16 €)\n",
            "Jahr 7: 1693.86 € pro Tag / 618258.43 € pro Jahr (Erlösverlust pro Tag: 191.26 € / Erlösverlust pro Jahr: 69809.72 €)\n",
            "Jahr 8: 1661.36 € pro Tag / 606395.46 € pro Jahr (Erlösverlust pro Tag: 223.76 € / Erlösverlust pro Jahr: 81672.69 €)\n",
            "Jahr 9: 1628.08 € pro Tag / 594249.24 € pro Jahr (Erlösverlust pro Tag: 257.04 € / Erlösverlust pro Jahr: 93818.91 €)\n",
            "Jahr 10: 1592.43 € pro Tag / 581237.83 € pro Jahr (Erlösverlust pro Tag: 292.69 € / Erlösverlust pro Jahr: 106830.31 €)\n",
            "\n",
            "Wie verändert sich der Erlös mit Batterie-Degradation?\n",
            "Der Tageserlös sinkt im 10. Jahr um 15.53% im Vergleich zum Ausgangsjahr.\n"
          ]
        },
        {
          "output_type": "stream",
          "name": "stderr",
          "text": [
            "<ipython-input-6-77ab8b52adb0>:37: UserWarning: linked SCIP 9.02 is not recommended for this version of PySCIPOpt - use version 9.2.1\n",
            "  scip = Model()  # SCIP-Optimierungsmodell erstellen\n"
          ]
        }
      ]
    }
  ]
}